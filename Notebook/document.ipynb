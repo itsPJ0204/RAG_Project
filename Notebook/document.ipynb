{
 "cells": [
  {
   "cell_type": "markdown",
   "id": "2fb79872",
   "metadata": {},
   "source": [
    "### Data Ingestion"
   ]
  },
  {
   "cell_type": "code",
   "execution_count": 1,
   "id": "d2a7b4eb",
   "metadata": {},
   "outputs": [],
   "source": [
    "import os\n",
    "os.makedirs(\"../data/text_files\", exist_ok=True)"
   ]
  },
  {
   "cell_type": "code",
   "execution_count": 4,
   "id": "9f5707f7",
   "metadata": {},
   "outputs": [
    {
     "name": "stdout",
     "output_type": "stream",
     "text": [
      "Sample text files created!\n"
     ]
    }
   ],
   "source": [
    "sample_texts={\n",
    "    \"../data/text_files/python_intro.txt\":\"\"\"Python is a high-level, general-purpose programming language. Its design philosophy emphasizes code readability with the use of significant indentation.\n",
    "\n",
    "Python is dynamically type-checked and garbage-collected. It supports multiple programming paradigms, including structured (particularly procedural), object-oriented and functional programming.\n",
    "\n",
    "Guido van Rossum began working on Python in the late 1980s as a successor to the ABC programming language. Python 3.0, released in 2008, was a major revision and not completely backward-compatible with earlier versions. Recent versions, such as Python 3.13, 3.12 and older (and 3.14), have added capabilities and keywords for typing, helping with (optional) static typing.[35] Currently only versions in the 3.x series are supported.\n",
    "\n",
    "Python consistently ranks as one of the most popular programming languages, and it has gained widespread use in the machine learning community. It is widely taught as an introductory programming language.\"\"\",\n",
    "\"../data/text_files/machine_learning.txt\":\"\"\"Machine learning (ML) is a field of study in artificial intelligence concerned with the development and study of statistical algorithms that can learn from data and generalise to unseen data, and thus perform tasks without explicit instructions. Within a subdiscipline in machine learning, advances in the field of deep learning have allowed neural networks, a class of statistical algorithms, to surpass many previous machine learning approaches in performance.\n",
    "\n",
    "ML finds application in many fields, including natural language processing, computer vision, speech recognition, email filtering, agriculture, and medicine. The application of ML to business problems is known as predictive analytics.\n",
    "\n",
    "Statistics and mathematical optimisation (mathematical programming) methods comprise the foundations of machine learning. Data mining is a related field of study, focusing on exploratory data analysis (EDA) via unsupervised learning.\n",
    "\n",
    "From a theoretical viewpoint, probably approximately correct learning provides a mathematical and statistical framework for describing machine learning. Most traditional machine learning and deep learning algorithms can be described as empirical risk minimization under this framework.\"\"\"\n",
    "}\n",
    "\n",
    "for filepath, content in sample_texts.items():\n",
    "    with open(filepath,'w',encoding=\"utf-8\") as f:\n",
    "        f.write(content)\n",
    "\n",
    "print(\"Sample text files created!\")"
   ]
  },
  {
   "cell_type": "code",
   "execution_count": 6,
   "id": "23dc05be",
   "metadata": {},
   "outputs": [
    {
     "name": "stdout",
     "output_type": "stream",
     "text": [
      "[Document(metadata={'source': '../data/text_files/python_intro.txt'}, page_content='Python is a high-level, general-purpose programming language. Its design philosophy emphasizes code readability with the use of significant indentation.\\n\\nPython is dynamically type-checked and garbage-collected. It supports multiple programming paradigms, including structured (particularly procedural), object-oriented and functional programming.\\n\\nGuido van Rossum began working on Python in the late 1980s as a successor to the ABC programming language. Python 3.0, released in 2008, was a major revision and not completely backward-compatible with earlier versions. Recent versions, such as Python 3.13, 3.12 and older (and 3.14), have added capabilities and keywords for typing, helping with (optional) static typing.[35] Currently only versions in the 3.x series are supported.\\n\\nPython consistently ranks as one of the most popular programming languages, and it has gained widespread use in the machine learning community. It is widely taught as an introductory programming language.')]\n"
     ]
    }
   ],
   "source": [
    "### Text Loader - This can directly convert any text file into a document structure that also has the metadata\n",
    "from langchain_community.document_loaders import TextLoader\n",
    "\n",
    "loader=TextLoader(\"../data/text_files/python_intro.txt\", encoding=\"utf-8\")\n",
    "document=loader.load()\n",
    "print(document)"
   ]
  },
  {
   "cell_type": "code",
   "execution_count": 10,
   "id": "4dd489e6",
   "metadata": {},
   "outputs": [
    {
     "data": {
      "text/plain": [
       "[Document(metadata={'source': '..\\\\data\\\\text_files\\\\machine_learning.txt'}, page_content='Machine learning (ML) is a field of study in artificial intelligence concerned with the development and study of statistical algorithms that can learn from data and generalise to unseen data, and thus perform tasks without explicit instructions. Within a subdiscipline in machine learning, advances in the field of deep learning have allowed neural networks, a class of statistical algorithms, to surpass many previous machine learning approaches in performance.\\n\\nML finds application in many fields, including natural language processing, computer vision, speech recognition, email filtering, agriculture, and medicine. The application of ML to business problems is known as predictive analytics.\\n\\nStatistics and mathematical optimisation (mathematical programming) methods comprise the foundations of machine learning. Data mining is a related field of study, focusing on exploratory data analysis (EDA) via unsupervised learning.\\n\\nFrom a theoretical viewpoint, probably approximately correct learning provides a mathematical and statistical framework for describing machine learning. Most traditional machine learning and deep learning algorithms can be described as empirical risk minimization under this framework.'),\n",
       " Document(metadata={'source': '..\\\\data\\\\text_files\\\\python_intro.txt'}, page_content='Python is a high-level, general-purpose programming language. Its design philosophy emphasizes code readability with the use of significant indentation.\\n\\nPython is dynamically type-checked and garbage-collected. It supports multiple programming paradigms, including structured (particularly procedural), object-oriented and functional programming.\\n\\nGuido van Rossum began working on Python in the late 1980s as a successor to the ABC programming language. Python 3.0, released in 2008, was a major revision and not completely backward-compatible with earlier versions. Recent versions, such as Python 3.13, 3.12 and older (and 3.14), have added capabilities and keywords for typing, helping with (optional) static typing.[35] Currently only versions in the 3.x series are supported.\\n\\nPython consistently ranks as one of the most popular programming languages, and it has gained widespread use in the machine learning community. It is widely taught as an introductory programming language.')]"
      ]
     },
     "execution_count": 10,
     "metadata": {},
     "output_type": "execute_result"
    }
   ],
   "source": [
    "### Directory Loader\n",
    "\n",
    "from langchain_community.document_loaders import DirectoryLoader\n",
    "dir_loader=DirectoryLoader(\n",
    "    \"../data/text_files\",\n",
    "    glob=\"**/*.txt\", ##Pattern to match\n",
    "    loader_cls=TextLoader,\n",
    "    loader_kwargs={'encoding':'utf-8'},\n",
    "    show_progress=False\n",
    ")\n",
    "\n",
    "documents=dir_loader.load()\n",
    "documents"
   ]
  },
  {
   "cell_type": "code",
   "execution_count": 4,
   "id": "077d03d6",
   "metadata": {},
   "outputs": [
    {
     "data": {
      "text/plain": [
       "[Document(metadata={'producer': 'Skia/PDF m140', 'creator': 'Mozilla/5.0 (Windows NT 10.0; Win64; x64) AppleWebKit/537.36 (KHTML, like Gecko) Chrome/140.0.0.0 Safari/537.36', 'creationdate': '2025-09-27T17:21:52+00:00', 'source': '..\\\\data\\\\pdf\\\\GATE.pdf', 'file_path': '..\\\\data\\\\pdf\\\\GATE.pdf', 'total_pages': 2, 'format': 'PDF 1.4', 'title': 'GATE', 'author': '', 'subject': '', 'keywords': '', 'moddate': '2025-09-27T17:21:52+00:00', 'trapped': '', 'modDate': \"D:20250927172152+00'00'\", 'creationDate': \"D:20250927172152+00'00'\", 'page': 0}, page_content='Payment Status\\n\\xa0Payment Received\\nSuccessfully\\nTransaction Number:\\xa0113956425763\\nBank ref No:\\xa0346049215535\\nAmount:\\xa0\\n2000\\nName:\\xa0PIYUSH JAIN\\nEnrollment Id:\\xa0G214U61\\nFee Type:\\xa0Application Fee\\nDigital FingerPrint: b6aca11627d9350ccd43aa7123dcd16c\\n9/27/25, 10:51 PM\\nGATE\\nhttps://goaps.iitg.ac.in/postPayment\\n1/2'),\n",
       " Document(metadata={'producer': 'Skia/PDF m140', 'creator': 'Mozilla/5.0 (Windows NT 10.0; Win64; x64) AppleWebKit/537.36 (KHTML, like Gecko) Chrome/140.0.0.0 Safari/537.36', 'creationdate': '2025-09-27T17:21:52+00:00', 'source': '..\\\\data\\\\pdf\\\\GATE.pdf', 'file_path': '..\\\\data\\\\pdf\\\\GATE.pdf', 'total_pages': 2, 'format': 'PDF 1.4', 'title': 'GATE', 'author': '', 'subject': '', 'keywords': '', 'moddate': '2025-09-27T17:21:52+00:00', 'trapped': '', 'modDate': \"D:20250927172152+00'00'\", 'creationDate': \"D:20250927172152+00'00'\", 'page': 1}, page_content='Copyright © GATE 2026.\\n9/27/25, 10:51 PM\\nGATE\\nhttps://goaps.iitg.ac.in/postPayment\\n2/2'),\n",
       " Document(metadata={'producer': 'www.ilovepdf.com', 'creator': 'Microsoft® Word 2016', 'creationdate': '2025-09-26T10:25:52+00:00', 'source': '..\\\\data\\\\pdf\\\\Piyush_Jain-Resume (1) (1).pdf', 'file_path': '..\\\\data\\\\pdf\\\\Piyush_Jain-Resume (1) (1).pdf', 'total_pages': 2, 'format': 'PDF 1.5', 'title': '', 'author': 'python-docx', 'subject': '', 'keywords': '', 'moddate': '2025-09-26T10:25:52+00:00', 'trapped': '', 'modDate': 'D:20250926102552Z', 'creationDate': \"D:20250926102552+00'00'\", 'page': 0}, page_content='PIYUSH JAIN \\n📧 College Mail: piyush.jain.aiml27@heritageit.edu.in | 📧 Personal Mail: \\npiyushj0204@gmail.com \\n📧 LinkedIn: https://www.linkedin.com/in/piyush-jain-91461527a/ | 📧 Kolkata, West \\nBengal \\nObjective                                                                                                                        \\nI am a third-year Computer Science and Engineering student specializing in AI & ML, with \\nhands-on experience in building machine learning models, NLP-driven applications, and AI-\\npowered projects. Actively exploring large language models, RAG-based systems, and deep \\nlearning frameworks to solve real-world problems. \\nEducation \\nHeritage Institute of Technology, Kolkata \\nB.Tech in Computer Science and Engineering (AI & ML) | Sep 2023 – Jun 2027 \\nSGPA 1: 10/10 | SGPA 2: 9.77/10 | SGPA 3: 10/10 | SGPA 4: 9.72/10 \\nAdamas International School, Kolkata \\nHigher Secondary (ISC) – 93.2% (2023) \\nSecondary (ICSE) – 97.5% (2021) \\nExperience \\nResearch Intern – New Jersey Institute of Technology (NJIT), USA \\nJun 2025 – Jul 2025 | Newark, NJ | On-site \\n- Explored ontology-based knowledge representation and search for virtual reality datasets, \\naligning with semantic search and AI-driven data retrieval. \\n- Worked on ontology data structuring and virtual reality development. \\n- Collaborated with a diverse research team, gaining experience in problem-solving and \\npractical applications. \\nProjects \\nAadhar Card Verifier using OCR (Flask, Python, Tesseract) \\n- Developed a system that identifies fake Aadhaar cards using OCR. \\n- Added database storage and data validation logic for practical usage.'),\n",
       " Document(metadata={'producer': 'www.ilovepdf.com', 'creator': 'Microsoft® Word 2016', 'creationdate': '2025-09-26T10:25:52+00:00', 'source': '..\\\\data\\\\pdf\\\\Piyush_Jain-Resume (1) (1).pdf', 'file_path': '..\\\\data\\\\pdf\\\\Piyush_Jain-Resume (1) (1).pdf', 'total_pages': 2, 'format': 'PDF 1.5', 'title': '', 'author': 'python-docx', 'subject': '', 'keywords': '', 'moddate': '2025-09-26T10:25:52+00:00', 'trapped': '', 'modDate': 'D:20250926102552Z', 'creationDate': \"D:20250926102552+00'00'\", 'page': 1}, page_content='Dietary Health Prediction & Recommendation System (Python, ML, Web Frontend)                \\n-Built a system that analyses user dietary input and predicts potential health outcomes.         \\n-Implemented a recommendation engine that suggests healthier food alternatives.                    \\n-Designed a user-friendly frontend for diet health assessment and personalized nutrition \\nadvice. \\nPillChill – Smart Healthcare Facility Management System \\n-Designed a system to help patients manage medicines, doctor appointments, and \\nhealthcare reminders.                                                                                                                                        \\n-Focused on enhancing patient experience and healthcare facility efficiency through \\ntechnology. \\nVirtual Herbal Garden Website (Unity, AR/VR, AI) \\n- Built an interactive herbal atlas with 3D models, chatbot integration, and VR tours. \\n- Focused on immersive visualization and knowledge sharing. \\nSkills \\nAI & ML: Machine Learning, Deep Learning, NLP (beginner), Computer Vision (beginner)    \\nFrameworks & Tools: TensorFlow, PyTorch, Scikit-learn, Tesseract OCR                          \\nGenAI & LLMs: Familiar with LLMs, Prompt Engineering, Multi-agent systems (exploring) \\nProgramming & Deployment: Python, Flask, Firebase, Git                                                            \\nCS Fundamentals: Data Structures & Algorithms, Java, C                                                                                                     \\nWeb Development: HTML, CSS, JavaScript, MongoDB, NextJs (beginner) \\nCertifications \\n- Certificate of Completion of a 6-week Independent Research Program  at NJIT Summer                                               \\n2025 (June 2025 – July 2025)                                                                                                                                                               \\n- Master the Coding Interview: Data Structures + Algorithms – Udemy (Oct 2024) \\n- Python Programming – Guvi & IITM Pravartak (Sep 2023) \\nAchievements & Activities \\n-Presented research work at the International Symposium on Medical Ontology in Virtual        \\nReality, New Jersey Institute of Technology (NJIT), 2025                                                                     \\n- 3rd Place – HackHeritage’24, Internal Hackathon at Heritage Institute of Technology \\n- State Archery Championship 2024 – Participant'),\n",
       " Document(metadata={'producer': 'www.ilovepdf.com', 'creator': 'Microsoft® Word 2016', 'creationdate': '2025-09-26T10:27:07+00:00', 'source': '..\\\\data\\\\pdf\\\\Statement_of_Purpose_Piyush_Jain.pdf', 'file_path': '..\\\\data\\\\pdf\\\\Statement_of_Purpose_Piyush_Jain.pdf', 'total_pages': 1, 'format': 'PDF 1.5', 'title': '', 'author': 'python-docx', 'subject': '', 'keywords': '', 'moddate': '2025-09-26T10:27:07+00:00', 'trapped': '', 'modDate': 'D:20250926102707Z', 'creationDate': \"D:20250926102707+00'00'\", 'page': 0}, page_content='Statement of Purpose \\n \\nI am Piyush Jain, a third-year B.Tech Computer Science and Engineering student specializing \\nin Artificial Intelligence and Machine Learning at Heritage Institute of Technology, Kolkata. \\nMy academic journey has been driven by a strong curiosity about how intelligent systems \\ncan be applied to solve complex real-world problems, especially in the areas of virtual \\nreality, interactive systems, and knowledge representation. \\n \\nIn 2025, I was selected for a research internship under Dr. James Geller and Dr. Margarita \\nVinnikov at NJIT, USA, where I contributed to the Virtual Reality Ontology Object \\nManipulation (VROOM) system. My role was to design and implement a search functionality \\nfor navigating thousands of medical ontology terms in a 3D VR environment. I developed an \\ninverted index search, n-gram substring matching, a ranking algorithm, and fuzzy matching \\nusing Levenshtein Distance. This experience not only strengthened my technical foundation \\nin search algorithms and AI techniques, but also exposed me to research at the intersection \\nof AI, VR, and education, showing me how technology can simplify complex domains like \\nmedicine. \\n \\nBeyond research, I have worked on several projects that integrate AI/ML with interactive \\ntechnologies. My Dietary Health Prediction and Recommendation System applied machine \\nlearning models in PyTorch to provide personalized diet suggestions. I also co-developed \\nthe Virtual Herbal Garden (JadiButi), a Unity-based VR/AR project featuring a virtual tour, \\n3D herbal atlas, and AI-driven chatbot, which combined my interests in gaming, \\nvisualization, and AI-powered user interaction. These projects reflect my long-term goal of \\nexploring how AI can be integrated with immersive environments to enhance learning, \\nhealthcare, and gaming experiences. \\n \\nThe NTU Global Connect Fellowship offers a unique opportunity to engage in world-class \\nresearch, collaborate with leading faculty, and broaden my perspective by working in an \\ninternational academic environment. I am particularly excited about projects involving \\nLarge Language Models (LLMs), Retrieval-Augmented Generation (RAG), and AI for \\nvisualization/VR, as they connect directly with my past work and my vision of building \\nintelligent, interactive systems. \\n \\nThrough this fellowship, I aim to contribute meaningfully to ongoing research at NTU, while \\nalso gaining the mentorship, resources, and global exposure necessary to shape my career \\nas an AI researcher. In the long term, I wish to pursue advanced research in AI for \\nimmersive technologies and contribute towards building intelligent systems that make \\nlearning, healthcare, and gaming more accessible and impactful. \\nPiyush Jain')]"
      ]
     },
     "execution_count": 4,
     "metadata": {},
     "output_type": "execute_result"
    }
   ],
   "source": [
    "from langchain_community.document_loaders import DirectoryLoader,PyPDFLoader, PyMuPDFLoader\n",
    "\n",
    "dir_loader=DirectoryLoader(\n",
    "    \"../data/pdf\",\n",
    "    glob=\"**/*.pdf\",\n",
    "    loader_cls=PyMuPDFLoader,\n",
    "    show_progress=False\n",
    ")\n",
    "\n",
    "pdf_doc=dir_loader.load()\n",
    "pdf_doc"
   ]
  },
  {
   "cell_type": "code",
   "execution_count": null,
   "id": "d65e88d4",
   "metadata": {},
   "outputs": [],
   "source": []
  }
 ],
 "metadata": {
  "kernelspec": {
   "display_name": "RAG",
   "language": "python",
   "name": "python3"
  },
  "language_info": {
   "codemirror_mode": {
    "name": "ipython",
    "version": 3
   },
   "file_extension": ".py",
   "mimetype": "text/x-python",
   "name": "python",
   "nbconvert_exporter": "python",
   "pygments_lexer": "ipython3",
   "version": "3.13.7"
  }
 },
 "nbformat": 4,
 "nbformat_minor": 5
}
